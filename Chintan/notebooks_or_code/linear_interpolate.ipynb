{
 "cells": [
  {
   "cell_type": "markdown",
   "id": "34f007e5-4c3c-4d97-bb4f-587ba8ace046",
   "metadata": {},
   "source": [
    "## Import Packages"
   ]
  },
  {
   "cell_type": "code",
   "execution_count": null,
   "id": "2f4e26f9-8cef-4a2c-b90b-a7ca221c2566",
   "metadata": {},
   "outputs": [],
   "source": [
    "import pandas as pd\n",
    "import numpy as np"
   ]
  },
  {
   "cell_type": "markdown",
   "id": "093aa10e-78f4-4ad9-8809-9152ecb64fbb",
   "metadata": {},
   "source": [
    "## Read File"
   ]
  },
  {
   "cell_type": "code",
   "execution_count": null,
   "id": "75bcfe68-29a1-4ac7-84e1-e14366667331",
   "metadata": {},
   "outputs": [],
   "source": [
    "kb = pd.read_csv('./Kbrevis_Rrs.csv')\n",
    "kb"
   ]
  },
  {
   "cell_type": "markdown",
   "id": "00b10c66-1b82-4036-aedc-c38d6ecef43a",
   "metadata": {},
   "source": [
    "## Interpolation"
   ]
  },
  {
   "cell_type": "markdown",
   "id": "a6b13575-a245-4b73-aa83-07ee8c57b0a7",
   "metadata": {},
   "source": [
    "Create continuous list of wavelengths at desired bandwidth (1nm for linear interpolation)"
   ]
  },
  {
   "cell_type": "code",
   "execution_count": null,
   "id": "f92a2d7a-b85e-46f2-a544-e918bf33aa7b",
   "metadata": {},
   "outputs": [],
   "source": [
    "wvs =list(kb['Station'])\n",
    "wvs_1nm = [i for i in range(400, 721)]"
   ]
  },
  {
   "cell_type": "markdown",
   "id": "1c1b5b43-36d1-4136-955b-e5c50b87d922",
   "metadata": {},
   "source": [
    "Create lists for each station 1nm apart, and populate missing values with nans"
   ]
  },
  {
   "cell_type": "code",
   "execution_count": null,
   "id": "2ba17e27-8b23-4a1f-8de4-46799a0983aa",
   "metadata": {},
   "outputs": [],
   "source": [
    "stations = kb.columns[1:]\n",
    "stations_1nm = {}\n",
    "for station in stations:\n",
    "    index = 0\n",
    "    with_nans = []\n",
    "    for i in range(400, 721):\n",
    "        if i in wvs:\n",
    "            with_nans.append(kb[station][index])\n",
    "            index+=1\n",
    "        else:\n",
    "            with_nans.append(np.nan)\n",
    "    stations_1nm[station] = with_nans"
   ]
  },
  {
   "cell_type": "markdown",
   "id": "1d7161e1-c851-4569-8df3-809316d6dcb1",
   "metadata": {},
   "source": [
    "Store everything in a new dataframe, in which index is wavelengths, 1nm apart. Here the missing data is still nans"
   ]
  },
  {
   "cell_type": "code",
   "execution_count": null,
   "id": "67933354-5210-4eb7-91a5-e72506fb9e30",
   "metadata": {},
   "outputs": [],
   "source": [
    "kb_1nm = pd.DataFrame(columns=['Wavelength'])\n",
    "kb_1nm['Wavelength'] = wvs_1nm\n",
    "for station in stations:\n",
    "    kb_1nm[station] = stations_1nm[station]\n",
    "kb_1nm = kb_1nm.set_index(\"Wavelength\")"
   ]
  },
  {
   "cell_type": "markdown",
   "id": "118fe002-087a-45b2-86ca-47f20219a887",
   "metadata": {},
   "source": [
    "Once the dataframe is created such that each column is station and rows as wavelengths; graciously use pandas' \"interpolate\" function. This will replace all the nans with interpolated values."
   ]
  },
  {
   "cell_type": "code",
   "execution_count": null,
   "id": "8671b7fd-1f16-4887-af24-5e4ad77c9e52",
   "metadata": {},
   "outputs": [],
   "source": [
    "kb_1nm = kb_1nm.interpolate()"
   ]
  },
  {
   "cell_type": "markdown",
   "id": "2b8f44aa-bc8a-4252-aed8-3ebd97208cab",
   "metadata": {},
   "source": [
    "Check, save and plot!"
   ]
  },
  {
   "cell_type": "code",
   "execution_count": null,
   "id": "563551d4-210b-4f2e-8385-f8c8c9036c24",
   "metadata": {},
   "outputs": [],
   "source": [
    "kb_1nm"
   ]
  },
  {
   "cell_type": "code",
   "execution_count": null,
   "id": "c1bb42b6-d8a0-4f63-aebe-b8b239a90518",
   "metadata": {},
   "outputs": [],
   "source": [
    "kb_1nm.to_csv('./Kbrevis_Rrs_1nm_400-720.csv')"
   ]
  },
  {
   "cell_type": "code",
   "execution_count": null,
   "id": "6a07db40-ecb1-4a24-8dad-bfa7a0bbe527",
   "metadata": {},
   "outputs": [],
   "source": [
    "kb_1nm.plot()"
   ]
  }
 ],
 "metadata": {
  "kernelspec": {
   "display_name": "Python 3 (ipykernel)",
   "language": "python",
   "name": "python3"
  },
  "language_info": {
   "codemirror_mode": {
    "name": "ipython",
    "version": 3
   },
   "file_extension": ".py",
   "mimetype": "text/x-python",
   "name": "python",
   "nbconvert_exporter": "python",
   "pygments_lexer": "ipython3",
   "version": "3.11.11"
  }
 },
 "nbformat": 4,
 "nbformat_minor": 5
}
