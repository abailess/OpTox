{
 "cells": [
  {
   "cell_type": "markdown",
   "id": "f2861b48-ef70-49a0-9866-a74fef0c72a1",
   "metadata": {
    "jp-MarkdownHeadingCollapsed": true
   },
   "source": [
    "## Import Packages"
   ]
  },
  {
   "cell_type": "code",
   "execution_count": null,
   "id": "5178df33-4e03-46ec-a208-989e2ca17195",
   "metadata": {},
   "outputs": [],
   "source": [
    "# ---- Load Libraries ----\n",
    "import numpy as np\n",
    "import matplotlib.pyplot as plt\n",
    "import seaborn as sns\n",
    "import xarray as xr\n",
    "import cartopy\n",
    "import cartopy.feature as cfeature\n",
    "import cartopy.crs as ccrs\n",
    "from matplotlib import colors\n",
    "from scipy.integrate import trapezoid\n",
    "import pickle\n",
    "import sklearn\n",
    "import gc"
   ]
  },
  {
   "cell_type": "code",
   "execution_count": null,
   "id": "e8ecfb58-cdf8-49c1-9d99-e6cb68af22a6",
   "metadata": {},
   "outputs": [],
   "source": [
    "# block cache for faster pings to s3\n",
    "import fsspec\n",
    "fsspec.config.conf[\"s3\"] = {\n",
    "    \"default_cache_type\": \"blockcache\",\n",
    "    # \"default_cache_size\": 2**22,\n",
    "}"
   ]
  },
  {
   "cell_type": "markdown",
   "id": "fdbfbc37-d915-4f0c-ac8e-5e1355ef343c",
   "metadata": {
    "jp-MarkdownHeadingCollapsed": true
   },
   "source": [
    "## Query Data"
   ]
  },
  {
   "cell_type": "code",
   "execution_count": null,
   "id": "3489e602-7ad5-4222-a5e1-7b72ee994426",
   "metadata": {},
   "outputs": [],
   "source": [
    "# eartdata login\n",
    "\n",
    "import earthaccess\n",
    "auth = earthaccess.login()\n",
    "# are we authenticated?\n",
    "if not auth.authenticated:\n",
    "    # ask for credentials and persist them in a .netrc file\n",
    "    auth.login(strategy=\"interactive\", persist=True)"
   ]
  },
  {
   "cell_type": "code",
   "execution_count": null,
   "id": "12a600ae-3af6-47e7-8600-2e4fa587201e",
   "metadata": {
    "scrolled": true
   },
   "outputs": [],
   "source": [
    "# 8 day average\n",
    "results = earthaccess.search_data(\n",
    "    short_name = \"PACE_OCI_L3M_RRS\",\n",
    "    temporal = (\"2024-08-15\", \"2025-01-15\"),\n",
    "    granule_name=\"*.8D.*.4km.*\"\n",
    ")"
   ]
  },
  {
   "cell_type": "code",
   "execution_count": null,
   "id": "2bbd4529-b2f5-4c12-b05a-d33ead75609c",
   "metadata": {
    "scrolled": true
   },
   "outputs": [],
   "source": [
    "fileset = earthaccess.open(results)"
   ]
  },
  {
   "cell_type": "code",
   "execution_count": null,
   "id": "ed6065d3-57fa-4d2e-bb9c-6cc6d155c593",
   "metadata": {},
   "outputs": [],
   "source": [
    "len(fileset)"
   ]
  },
  {
   "cell_type": "markdown",
   "id": "14a2f054-2c0a-4975-be10-56a72e3cd783",
   "metadata": {
    "jp-MarkdownHeadingCollapsed": true
   },
   "source": [
    "## Open Data"
   ]
  },
  {
   "cell_type": "code",
   "execution_count": null,
   "id": "a8e56853-0207-4997-bd0f-d39214101150",
   "metadata": {},
   "outputs": [],
   "source": [
    "bbox = (-83.5, 25.0, -81.5, 30.13721061020233)"
   ]
  },
  {
   "cell_type": "code",
   "execution_count": null,
   "id": "d12fc5d6-24c0-4d31-9adf-5befea9cb6ba",
   "metadata": {},
   "outputs": [],
   "source": [
    "# to add time/day axis\n",
    "def time_from_attr(ds):\n",
    "    \"\"\"Set the time attribute as a dataset variable\n",
    "    Args:\n",
    "        ds: a dataset corresponding to one or multiple Level-2 granules\n",
    "    Returns:\n",
    "        the dataset with a scalar \"time\" coordinate\n",
    "    \"\"\"\n",
    "    datetime = ds.attrs[\"time_coverage_start\"].replace(\"Z\", \"\")\n",
    "    ds[\"date\"] = ((), np.datetime64(datetime, \"ns\"))\n",
    "    ds = ds.set_coords(\"date\")\n",
    "    return ds"
   ]
  },
  {
   "cell_type": "code",
   "execution_count": null,
   "id": "ee0df5f0-cd3d-492e-b5be-db6c3e99ca4b",
   "metadata": {},
   "outputs": [],
   "source": [
    "# Load dataset\n",
    "dataset = xr.open_mfdataset(fileset, combine=\"nested\", concat_dim=\"date\", preprocess=time_from_attr)"
   ]
  },
  {
   "cell_type": "code",
   "execution_count": null,
   "id": "5e83dd74-29d9-4e13-9f0f-cf8d8d16fb29",
   "metadata": {},
   "outputs": [],
   "source": [
    "# Assign core variables\n",
    "Rrs = dataset[\"Rrs\"].sel({\"lon\": slice(bbox[0],bbox[2]), \n",
    "                          \"lat\": slice(bbox[3],bbox[1]),\n",
    "                         })\n",
    "latitude = Rrs[\"lat\"]\n",
    "longitude = Rrs[\"lon\"]\n",
    "wavelengths = dataset[\"wavelength\"]\n",
    "date = dataset[\"date\"]"
   ]
  },
  {
   "cell_type": "code",
   "execution_count": null,
   "id": "f1e47231-f4a3-4c01-87d4-0526fac4f408",
   "metadata": {},
   "outputs": [],
   "source": [
    "%%time\n",
    "# ---- Make product plot ----\n",
    "fig = plt.figure(figsize=(10, 5))\n",
    "ax = plt.axes(projection=cartopy.crs.PlateCarree())\n",
    "ax.gridlines(draw_labels={\"bottom\": \"x\", \"left\": \"y\"})\n",
    "ax.coastlines()\n",
    "\n",
    "# ---- Adjust colorbar limits ----\n",
    "# ndci = (Rrs[0].sel(wavelength=709, method=\"nearest\") - Rrs[0].sel(wavelength=665, method=\"nearest\"))/(Rrs[0].sel(wavelength=709, method=\"nearest\") + Rrs[0].sel(wavelength=665, method=\"nearest\"))\n",
    "rbd = (Rrs[0].sel(wavelength=678, method=\"nearest\") - Rrs[0].sel(wavelength=667, method=\"nearest\"))\n",
    "kbbi = (Rrs[0].sel(wavelength=678, method=\"nearest\") - Rrs[0].sel(wavelength=667, method=\"nearest\"))/(Rrs[0].sel(wavelength=678, method=\"nearest\") + Rrs[0].sel(wavelength=667, method=\"nearest\"))\n",
    "\n",
    "\n",
    "# test = xr.DataArray(\n",
    "#     rrs[0][:,:,0],\n",
    "#     coords={\"lat\": latitude, \"lon\": longitude},\n",
    "#     dims=[\"lat\", \"lon\"]\n",
    "# )\n",
    "\n",
    "plot = rbd.plot(x=\"lon\", y=\"lat\", cmap=\"jet\",)\n",
    "\n",
    "# ---- Customize colorbar label ----\n",
    "plot.colorbar.set_label(\"KBBI\", labelpad=10, fontsize=16, fontweight=\"bold\")\n",
    "#plt.title('')"
   ]
  },
  {
   "cell_type": "markdown",
   "id": "a5158806-2259-4090-81ef-9ed9095ef65c",
   "metadata": {
    "jp-MarkdownHeadingCollapsed": true
   },
   "source": [
    "## Prepare Data for Model Inference"
   ]
  },
  {
   "cell_type": "code",
   "execution_count": null,
   "id": "cb128282-49d4-42d9-8601-17208a96f930",
   "metadata": {},
   "outputs": [],
   "source": [
    "feature_list = [585, 588, 590, 593, 595, 598, 600, 602, 605, 607, 610, 612, 615, 617, 620, 622, 624, 627, 629, 632, 634, 637, 639, 641, 642, 643, 644, 645, 647, 648, 649, 650, 652, 653, 654, 655, 657, 658, 659, 660, 662, 663, 664, 665, 667, 668, 669, 670, 671, 673, 674, 675, 676, 678, 679, 680, 681, 683, 684, 685, 686, 688, 689, 690, 691, 693, 694, 695, 696, 698, 699, 700, 701, 703, 704, 705, 706, 708, 709, 710, 711, 713, 714, 716, 719, 998, 999]"
   ]
  },
  {
   "cell_type": "code",
   "execution_count": null,
   "id": "6b0a2aea-1191-468c-9792-7367d4c2dc61",
   "metadata": {},
   "outputs": [],
   "source": [
    "# create additional features as k.brevis indices\n",
    "rbd = Rrs.sel(wavelength=678, method=\"nearest\") - Rrs.sel(wavelength=667, method=\"nearest\")\n",
    "ss_490 = Rrs.sel(wavelength=487, method=\"nearest\") - Rrs.sel(wavelength=444, method=\"nearest\") - (Rrs.sel(wavelength=532, method=\"nearest\") - Rrs.sel(wavelength=444, method=\"nearest\"))*(487-444)/(532-444)\n",
    "\n",
    "# add those features as bands in the Rrs stack \n",
    "rbd = rbd.expand_dims(dim={\"wavelength\": [998]})\n",
    "ss_490 = ss_490.expand_dims(dim={\"wavelength\": [999]})\n",
    "Rrs = xr.concat([Rrs, rbd, ss_490], dim=\"wavelength\")"
   ]
  },
  {
   "cell_type": "code",
   "execution_count": null,
   "id": "4419ba6c-af92-47a1-bdbd-d89971b0474d",
   "metadata": {},
   "outputs": [],
   "source": [
    "# select only model specific bands and features\n",
    "Rrs = Rrs.sel(wavelength=feature_list, method=\"nearest\")"
   ]
  },
  {
   "cell_type": "markdown",
   "id": "5434bb43-d36c-4655-9d8a-5ec262615a44",
   "metadata": {
    "jp-MarkdownHeadingCollapsed": true
   },
   "source": [
    "## Inferring K.brevis Cell count from OCI Weekly Hyperspectral Rrs Averages"
   ]
  },
  {
   "cell_type": "code",
   "execution_count": null,
   "id": "0ac7a4eb-34af-477b-b369-d8b9c7894c2c",
   "metadata": {},
   "outputs": [],
   "source": [
    "%%time\n",
    "\n",
    "# saving all values in memory for faster inferencing and avoiding callbacks\n",
    "rrs = Rrs.values\n",
    "rrs.shape"
   ]
  },
  {
   "cell_type": "code",
   "execution_count": null,
   "id": "afa568df-3ac3-4bf7-8861-4560c9480638",
   "metadata": {},
   "outputs": [],
   "source": [
    "# saving np array for future inferences\n",
    "np.savez(\"8D_rrs_Aug152024-Jan152025.npz\", rrs=rrs, latitude=latitude, longitude=longitude)"
   ]
  },
  {
   "cell_type": "code",
   "execution_count": null,
   "id": "5a8da53a-c17e-4c6f-877e-15c81d3fd01e",
   "metadata": {},
   "outputs": [],
   "source": [
    "# loading np array\n",
    "data = np.load('./8D_rrs_Aug152024-Jan152025.npz')\n",
    "rrs = data['rrs']\n",
    "latitude = data['latitude']\n",
    "longitude = data['longitude']\n",
    "rrs.shape, latitude.shape, longitude.shape"
   ]
  },
  {
   "cell_type": "code",
   "execution_count": null,
   "id": "00c159e6-e2a7-4de0-a39a-edfc8191f7f6",
   "metadata": {},
   "outputs": [],
   "source": [
    "model = None\n",
    "with open('svr_model.pkl', 'rb') as f:\n",
    "    model = pickle.load(f)"
   ]
  },
  {
   "cell_type": "code",
   "execution_count": null,
   "id": "0a8789d9-0b60-4b0f-b8fa-27dcbb9882c1",
   "metadata": {},
   "outputs": [],
   "source": [
    "median = []\n",
    "sd = []\n",
    "predictions = []\n",
    "dates = []"
   ]
  },
  {
   "cell_type": "code",
   "execution_count": null,
   "id": "d6f4509d-42f3-46b6-bcd1-72bc77657daf",
   "metadata": {},
   "outputs": [],
   "source": [
    "# loop through all day-averaged images\n",
    "index = 0\n",
    "for d in date:\n",
    "    # get single image\n",
    "    img = rrs[index]\n",
    "    img_shape = img.shape\n",
    "\n",
    "    # reshape it to lat*long, bands\n",
    "    img = img.reshape(-1, img_shape[2])\n",
    "\n",
    "    # store nan locations\n",
    "    valid_mask = ~np.isnan(img).any(axis=1)\n",
    "    valid_data = img[valid_mask]\n",
    "\n",
    "    # predict on non-nan pixels\n",
    "    img_pred = model.predict(valid_data)\n",
    "\n",
    "    # bring predictions to linear scale\n",
    "    img_pred = np.expm1(img_pred)\n",
    "\n",
    "    # merge predictions and nans, and reshape to 2d\n",
    "    full_predictions = np.full(img_shape[0]*img_shape[1], np.nan)  # (lat*lon)\n",
    "    full_predictions[valid_mask] = img_pred   \n",
    "    img_pred = full_predictions.reshape(rrs[0].shape[0], rrs[0].shape[1])\n",
    "\n",
    "    # save stats\n",
    "    predictions.append(img_pred)\n",
    "    median.append(np.nanmax(img_pred))\n",
    "    sd.append(np.nanstd(img_pred))\n",
    "    dates.append(np.datetime_as_string(d.values, 'D'))\n",
    "\n",
    "    print(f\"Inferences ran for {d.values} with prediction shape {img_pred.shape} and median cell count {median[index]}±{sd[index]}\")\n",
    "    index+=1\n",
    "    \n",
    "gc.collect()"
   ]
  },
  {
   "cell_type": "markdown",
   "id": "516d6990-64bb-411a-9205-67241fdec6eb",
   "metadata": {
    "jp-MarkdownHeadingCollapsed": true
   },
   "source": [
    "## Plotting *K.Brevis* cell conc. maps"
   ]
  },
  {
   "cell_type": "code",
   "execution_count": null,
   "id": "cfc01d94-7d66-4151-b038-65be4d99d15b",
   "metadata": {},
   "outputs": [],
   "source": [
    "plt.rcdefaults()\n",
    "sns.set_theme(rc={\"figure.dpi\": 600})\n",
    "sns.set_context(\"poster\")\n",
    "sns.set_style(style=\"ticks\")\n",
    "\n",
    "def set_font_size(fontsize):\n",
    "    plt.rc('font', size=fontsize)\n",
    "    plt.rc('axes', titlesize=fontsize)\n",
    "    plt.rc('axes', labelsize=fontsize)\n",
    "    plt.rc('xtick', labelsize=fontsize)\n",
    "    plt.rc('ytick', labelsize=fontsize)\n",
    "    plt.rc('legend', fontsize=fontsize)"
   ]
  },
  {
   "cell_type": "code",
   "execution_count": null,
   "id": "ff8562ac-e29c-4927-bc9c-6153169f4e68",
   "metadata": {},
   "outputs": [],
   "source": [
    "import matplotlib.pyplot as plt\n",
    "import matplotlib.gridspec as gridspec\n",
    "import cartopy.crs as ccrs\n",
    "import xarray as xr\n",
    "\n",
    "set_font_size(20)\n",
    "predictions_xr = []\n",
    "\n",
    "rows, cols = 4, 5\n",
    "fig = plt.figure(figsize=(25, 40))\n",
    "gs = gridspec.GridSpec(rows, cols + 1, width_ratios=[1]*cols + [0.05], wspace=0.2, hspace=0.1)\n",
    "\n",
    "for row in range(rows):\n",
    "    for col in range(cols):\n",
    "        index = row * cols + col\n",
    "        ax = fig.add_subplot(gs[row, col], projection=ccrs.PlateCarree())\n",
    "\n",
    "        # Prepare xarray object from predicted image\n",
    "        img_pred_plot = xr.DataArray(\n",
    "            predictions[index],  # shape (lat, lon)\n",
    "            coords={\"lat\": latitude, \"lon\": longitude},\n",
    "            dims=[\"lat\", \"lon\"]\n",
    "        )\n",
    "        predictions_xr.append(img_pred_plot)\n",
    "\n",
    "        # ax.coastlines()\n",
    "        ax.add_feature(cfeature.COASTLINE)\n",
    "        ax.add_feature(cfeature.BORDERS, linestyle=':')\n",
    "        ax.add_feature(cfeature.LAND, edgecolor='black')\n",
    "        ax.add_feature(cfeature.OCEAN)\n",
    "        ax.add_feature(cfeature.LAKES, alpha=0.5)\n",
    "        ax.add_feature(cfeature.RIVERS)\n",
    "        gl = ax.gridlines(draw_labels=True, alpha=0.3, linestyle=\"--\")\n",
    "        gl.top_labels = False\n",
    "        gl.right_labels = False\n",
    "        gl.left_labels = (col == 0)              # Only leftmost column\n",
    "        gl.bottom_labels = (row == rows - 1)     # Only bottom row\n",
    "\n",
    "        # Plot without colorbar for now\n",
    "        plot = img_pred_plot.plot(\n",
    "            x=\"lon\", y=\"lat\", cmap=\"jet\", ax=ax,\n",
    "            add_colorbar=False, vmin=0, vmax=120000\n",
    "        )\n",
    "\n",
    "        ax.set_title(str(dates[index]))\n",
    "\n",
    "    # ---- Add ONE colorbar per row ----\n",
    "    cax = fig.add_subplot(gs[row, -1])  # last column of each row\n",
    "    cbar = fig.colorbar(plot, cax=cax)\n",
    "    cbar.set_label(\"$K.\\ Brevis$ cells/L\", labelpad=20, fontsize=20)\n",
    "\n",
    "plt.savefig('./weekly_kbrevis_spatial_variation.png')\n",
    "plt.show()"
   ]
  },
  {
   "cell_type": "code",
   "execution_count": null,
   "id": "f64098b5-39a0-4875-acb4-2fbfd6215731",
   "metadata": {},
   "outputs": [],
   "source": [
    "# predictions_xr = np.array(predictions_xr)\n",
    "# predictions_xr[0]"
   ]
  },
  {
   "cell_type": "markdown",
   "id": "bc43e09b-e667-47f4-bf4a-5f20bccf750a",
   "metadata": {
    "jp-MarkdownHeadingCollapsed": true
   },
   "source": [
    "## Prepare GIF from Maps"
   ]
  },
  {
   "cell_type": "code",
   "execution_count": null,
   "id": "a23321f8-9806-4d37-9ec0-ab7d6423dfde",
   "metadata": {},
   "outputs": [],
   "source": [
    "set_font_size(16)\n",
    "\n",
    "import matplotlib.pyplot as plt\n",
    "import cartopy.crs as ccrs\n",
    "import cartopy.feature as cfeature\n",
    "import xarray as xr\n",
    "import numpy as np\n",
    "import matplotlib.ticker as mticker\n",
    "import matplotlib.gridspec as gridspec\n",
    "from PIL import Image\n",
    "import io\n",
    "\n",
    "lon2d, lat2d = np.meshgrid(longitude, latitude)\n",
    "\n",
    "# Simulate a series of xarray.DataArray objects as prediction plots\n",
    "img_pred_list = predictions_xr\n",
    "\n",
    "# Generate frames for GIF\n",
    "frames = []\n",
    "\n",
    "for index, img_pred_plot in enumerate(img_pred_list):\n",
    "    fig = plt.figure(figsize=(5, 5))\n",
    "    ax = plt.axes(projection=ccrs.PlateCarree())\n",
    "    ax.set_extent([longitude.min(), longitude.max(), latitude.min(), latitude.max()], crs=ccrs.PlateCarree())\n",
    "\n",
    "    # Add map features\n",
    "    ax.add_feature(cfeature.COASTLINE)\n",
    "    ax.add_feature(cfeature.BORDERS, linestyle=':')\n",
    "    ax.add_feature(cfeature.LAND, edgecolor='black')\n",
    "    ax.add_feature(cfeature.OCEAN)\n",
    "    ax.add_feature(cfeature.LAKES, alpha=0.5)\n",
    "    ax.add_feature(cfeature.RIVERS)\n",
    "\n",
    "    # Gridlines and labels\n",
    "    gl = ax.gridlines(draw_labels=True, linewidth=0.5, color='gray', alpha=0.5)\n",
    "    gl.top_labels = False\n",
    "    gl.right_labels = False\n",
    "    # gl.xlabel_style = {'size': 10}\n",
    "    # gl.ylabel_style = {'size': 10}\n",
    "    gl.xlocator = mticker.FixedLocator(np.arange(-83, -79, 1))\n",
    "    gl.ylocator = mticker.FixedLocator(np.arange(26, 30, 1))\n",
    "\n",
    "    # Plot data\n",
    "    plot = img_pred_plot.plot(\n",
    "        x=\"lon\", y=\"lat\", cmap=\"jet\", ax=ax, add_colorbar=True, cbar_kwargs={'label': \"$K.\\ Brevis$ cells/L\"}, vmin=0, vmax=120000\n",
    "    )\n",
    "\n",
    "    ax.set_title(str(dates[index]))\n",
    "\n",
    "    # Save figure to buffer\n",
    "    buf = io.BytesIO()\n",
    "    plt.savefig(buf, format=\"png\", bbox_inches='tight')\n",
    "    plt.close(fig)\n",
    "    buf.seek(0)\n",
    "    frame = Image.open(buf)\n",
    "    frames.append(frame)\n",
    "\n",
    "# Save the frames as a GIF\n",
    "gif_path = \"./kbrevis_prediction_animation.gif\"\n",
    "frames[0].save(gif_path, save_all=True, append_images=frames[1:], duration=1000, loop=0)\n",
    "\n",
    "gif_path"
   ]
  },
  {
   "cell_type": "markdown",
   "id": "a2062dd6-6d02-4175-b2e2-1c3e9567f39d",
   "metadata": {
    "jp-MarkdownHeadingCollapsed": true
   },
   "source": [
    "## *K.Brev* cell concentration Timeseries Plotting"
   ]
  },
  {
   "cell_type": "code",
   "execution_count": null,
   "id": "e2aa7f27-1df3-44ea-a123-965f484307af",
   "metadata": {},
   "outputs": [],
   "source": [
    "# ---- User Input: Define Transect ----\n",
    "lat1 = 29.2\n",
    "lon1 = -83.1\n",
    "lat2 = 24.5\n",
    "lon2 = -81.5"
   ]
  },
  {
   "cell_type": "code",
   "execution_count": null,
   "id": "c7a25129-b150-4121-a031-61daf021dea8",
   "metadata": {
    "scrolled": true
   },
   "outputs": [],
   "source": [
    "set_font_size(10)\n",
    "# ---- Generate Transect Points ----\n",
    "npts = 100\n",
    "lats = np.linspace(lat1, lat2, npts)\n",
    "lons = np.linspace(lon1, lon2, npts)\n",
    "\n",
    "# ---- Plot AVW Map and Transect ----\n",
    "fig = plt.figure(figsize=(14, 6))\n",
    "ax = plt.axes(projection=ccrs.PlateCarree())\n",
    "ax.set_extent([-84.0, -80.0, 20.0, 30.0], crs=ccrs.PlateCarree())\n",
    "ax.coastlines()\n",
    "ax.gridlines(draw_labels=True)\n",
    "ax.plot(lons, lats, color=\"black\", linewidth=2, transform=ccrs.PlateCarree(), label=\"Transect\")\n",
    "ax.legend(loc=\"lower left\")\n",
    "\n",
    "# Plot AVW image\n",
    "img = predictions_xr[0].plot(\n",
    "    x=\"lon\", y=\"lat\",\n",
    "    cmap=\"jet\", vmin=450, vmax=490,\n",
    "    ax=ax, add_colorbar=False\n",
    ")"
   ]
  },
  {
   "cell_type": "code",
   "execution_count": null,
   "id": "b4cc62cb-6692-427b-9204-edb7b51e63ca",
   "metadata": {},
   "outputs": [],
   "source": [
    "lon2d, lat2d = np.meshgrid(longitude, latitude)"
   ]
  },
  {
   "cell_type": "code",
   "execution_count": null,
   "id": "96e7b675-39d2-4a9f-a7e2-30aeecd88d81",
   "metadata": {},
   "outputs": [],
   "source": [
    "lon2d, lat2d = np.meshgrid(longitude, latitude)\n",
    "kb_cellcounts_8day = []\n",
    "# ---- Plot spectra ----\n",
    "for date in range(20):\n",
    "    transect_kb = []\n",
    "    for lat, lon in zip(lats, lons):\n",
    "        # Get nearest index from 2D coordinate arrays\n",
    "        dist = np.sqrt((lat2d - lat)**2 + (lon2d - lon)**2)\n",
    "        i, j = np.unravel_index(np.argmin(dist), dist.shape)\n",
    "\n",
    "        # Proceed with extraction\n",
    "        transect_kb.append(predictions_xr[date].isel(lat=i, lon=j).item())\n",
    "    kb_cellcounts_8day.append(transect_kb)"
   ]
  },
  {
   "cell_type": "code",
   "execution_count": null,
   "id": "f7c8b60d-afcc-4f47-8845-d6f53f104c44",
   "metadata": {},
   "outputs": [],
   "source": [
    "len(predictions_xr)"
   ]
  },
  {
   "cell_type": "code",
   "execution_count": null,
   "id": "e9b76d92-ac20-4f08-8834-e22e422742c8",
   "metadata": {
    "scrolled": true
   },
   "outputs": [],
   "source": [
    "kb_cellcounts_8day = np.array(kb_cellcounts_8day)\n",
    "kb_cellcounts_8day.shape"
   ]
  },
  {
   "cell_type": "code",
   "execution_count": null,
   "id": "0d78beee-3101-450c-a2a5-7764c93edf89",
   "metadata": {},
   "outputs": [],
   "source": [
    "kb_median = np.nanmedian(kb_cellcounts_8day, axis=1)\n",
    "kb_std = np.nanstd(kb_cellcounts_8day, axis=1)\n",
    "kb_median.shape, kb_std.shape"
   ]
  },
  {
   "cell_type": "code",
   "execution_count": null,
   "id": "1977171f-9112-437b-9344-68e45534c9a2",
   "metadata": {},
   "outputs": [],
   "source": [
    "plt.rcdefaults()\n",
    "sns.set_theme(rc={\"figure.dpi\": 300})\n",
    "sns.set_context(\"poster\")\n",
    "sns.set_style(style=\"ticks\")\n",
    "\n",
    "def set_font_size(fontsize):\n",
    "    plt.rc('font', size=fontsize)\n",
    "    plt.rc('axes', titlesize=fontsize)\n",
    "    plt.rc('axes', labelsize=fontsize)\n",
    "    plt.rc('xtick', labelsize=fontsize)\n",
    "    plt.rc('ytick', labelsize=fontsize)\n",
    "    plt.rc('legend', fontsize=fontsize)"
   ]
  },
  {
   "cell_type": "code",
   "execution_count": null,
   "id": "33ed32c2-b595-4112-9afe-fc8ca73567ab",
   "metadata": {},
   "outputs": [],
   "source": [
    "plt.rcParams.update({\n",
    "    'lines.linewidth': 1.5,\n",
    "    'axes.linewidth': 1.0,\n",
    "    'xtick.major.width': 1.0,\n",
    "    'ytick.major.width': 1.0,\n",
    "    'xtick.minor.width': 0.8,\n",
    "    'ytick.minor.width': 0.8,\n",
    "    'xtick.direction': 'out',\n",
    "    'ytick.direction': 'out',\n",
    "})"
   ]
  },
  {
   "cell_type": "code",
   "execution_count": null,
   "id": "8858eda1-fe8e-4a20-a8dd-d04f7b5872b5",
   "metadata": {},
   "outputs": [],
   "source": [
    "set_font_size(16)\n",
    "import numpy as np\n",
    "import matplotlib.pyplot as plt\n",
    "import matplotlib.dates as mdates\n",
    "from datetime import datetime\n",
    "\n",
    "# Convert to matplotlib-compatible dates\n",
    "dates_mpl = np.array(dates).astype('datetime64[D]').astype(datetime)\n",
    "\n",
    "# Plotting\n",
    "fig, ax = plt.subplots(figsize=(15, 7))\n",
    "\n",
    "# Median as points instead of continuous line\n",
    "ax.plot(dates_mpl, kb_median, 'o-', color='green', label='Median cells/L', linewidth=2)\n",
    "\n",
    "# Shaded area for std (±1σ)\n",
    "ax.fill_between(dates_mpl,\n",
    "                kb_median - kb_std / 10,\n",
    "                kb_median + kb_std / 10,\n",
    "                color='green',\n",
    "                alpha=0.2,\n",
    "                label='±1 σ')\n",
    "\n",
    "# Add vertical dotted line at Oct 2024\n",
    "hurricane_date = datetime(2024, 10, 9)\n",
    "ax.axvline(hurricane_date, color='red', linestyle='--', linewidth=1.5, label='Hurricane Milton')\n",
    "ax.text(hurricane_date, ax.get_ylim()[1]*0.95, 'Hurricane Milton', color='red', rotation=90,\n",
    "        verticalalignment='top', horizontalalignment='right')\n",
    "\n",
    "# Formatting\n",
    "ax.set_title(\"$K.Brev$ cell concentration for West FL Coast\")\n",
    "ax.set_ylabel(\"$K. Brev$ (cells/L)\")\n",
    "ax.grid(True, linestyle='--', alpha=0.5)\n",
    "\n",
    "# Improve date formatting\n",
    "ax.xaxis.set_major_formatter(mdates.DateFormatter('%b %Y'))\n",
    "fig.autofmt_xdate()\n",
    "\n",
    "# Legend\n",
    "ax.legend()\n",
    "\n",
    "plt.tight_layout()\n",
    "plt.show()"
   ]
  },
  {
   "cell_type": "markdown",
   "id": "ca56b84b-9d3b-4699-9e98-105b5ab9f6a3",
   "metadata": {
    "jp-MarkdownHeadingCollapsed": true
   },
   "source": [
    "## Prepare GIF for *K.Brev* cell concentration timeseries"
   ]
  },
  {
   "cell_type": "code",
   "execution_count": null,
   "id": "308b7a35-a2a0-41ad-8c83-4eb28cc367b0",
   "metadata": {},
   "outputs": [],
   "source": [
    "set_font_size(24)\n",
    "import numpy as np\n",
    "import matplotlib.pyplot as plt\n",
    "import matplotlib.dates as mdates\n",
    "import pandas as pd\n",
    "import imageio\n",
    "from datetime import datetime\n",
    "import io\n",
    "from PIL import Image\n",
    "\n",
    "# Simulate data\n",
    "np.random.seed(42)\n",
    "n_points = 20\n",
    "\n",
    "# Define hurricane date (optional, only show after it occurs)\n",
    "hurricane_date = datetime(2024, 10, 9).date()\n",
    "\n",
    "# Create frames\n",
    "frames = []\n",
    "for i in range(1, n_points + 1):\n",
    "    # Plotting\n",
    "    fig, ax = plt.subplots(figsize=(15, 7))\n",
    "    \n",
    "    # Median as points instead of continuous line\n",
    "    ax.plot(dates_mpl[:i], kb_median[:i], 'o-', color='green', label='Median cells/L', linewidth=2)\n",
    "    \n",
    "    # Shaded area for std (±1σ)\n",
    "    ax.fill_between(dates_mpl[:i],\n",
    "                    kb_median[:i] - kb_std[:i] / 10,\n",
    "                    kb_median[:i] + kb_std[:i] / 10,\n",
    "                    color='green',\n",
    "                    alpha=0.2,\n",
    "                    label='±1 σ')\n",
    "    \n",
    "    if dates_mpl[i-1] >= hurricane_date:\n",
    "        ax.axvline(hurricane_date, color='red', linestyle='--', linewidth=1.5, label='Hurricane Milton')\n",
    "        ax.text(hurricane_date, ax.get_ylim()[1]*0.95, 'Hurricane Milton', color='red', rotation=90,\n",
    "        verticalalignment='top', horizontalalignment='right')\n",
    "\n",
    "    # Formatting\n",
    "    ax.set_title(\"$K.Brev$ cell concentration for West FL Coast\")\n",
    "    ax.set_ylabel(\"$K. Brev$ (cells/L)\")\n",
    "    ax.grid(True, linestyle='--', alpha=0.5)\n",
    "    \n",
    "    # Improve date formatting\n",
    "    ax.xaxis.set_major_formatter(mdates.DateFormatter('%b %Y'))\n",
    "    fig.autofmt_xdate()\n",
    "    \n",
    "    # Legend\n",
    "    ax.legend()\n",
    "\n",
    "    plt.tight_layout()\n",
    "\n",
    "    # Save figure to buffer\n",
    "    buf = io.BytesIO()\n",
    "    plt.savefig(buf, format=\"png\", bbox_inches='tight')\n",
    "    plt.close(fig)\n",
    "    buf.seek(0)\n",
    "    frame = Image.open(buf)\n",
    "    frames.append(frame)\n",
    "\n",
    "# Save the frames as a GIF\n",
    "gif_path = \"./kbrevis_timeseries_animation_v2.gif\"\n",
    "frames[0].save(gif_path, save_all=True, append_images=frames[1:], duration=1000, loop=0)\n",
    "\n",
    "gif_path"
   ]
  },
  {
   "cell_type": "code",
   "execution_count": null,
   "id": "3cd68fda-4dce-42d8-a237-1c9741dd2c52",
   "metadata": {},
   "outputs": [],
   "source": []
  },
  {
   "cell_type": "code",
   "execution_count": null,
   "id": "ccd2b97a-2d29-4ca3-8d7a-1f4701f5a946",
   "metadata": {},
   "outputs": [],
   "source": []
  },
  {
   "cell_type": "code",
   "execution_count": null,
   "id": "08b50f87-406a-44b5-bf3b-d89e30a2b285",
   "metadata": {},
   "outputs": [],
   "source": []
  },
  {
   "cell_type": "code",
   "execution_count": null,
   "id": "1db5f539-d052-41f1-8841-afffa3e4519e",
   "metadata": {},
   "outputs": [],
   "source": [
    "# Load dataset\n",
    "dataset = xr.open_mfdataset(fileset[0])"
   ]
  },
  {
   "cell_type": "code",
   "execution_count": null,
   "id": "a627678f-9145-4c61-ae0f-f012269a4bce",
   "metadata": {},
   "outputs": [],
   "source": [
    "\n",
    "\n",
    "rrs = dataset[\"Rrs\"].sel({\"wavelength\": 709, \"lon\": slice(bbox[0],bbox[2]), \"lat\": slice(28.215572, 23.847017)})\n"
   ]
  },
  {
   "cell_type": "code",
   "execution_count": null,
   "id": "c8d910ff-ad65-4823-a645-791bea9a2b0b",
   "metadata": {},
   "outputs": [],
   "source": [
    "# ---- Make product plot ----\n",
    "fig = plt.figure(figsize=(10, 5))\n",
    "ax = plt.axes(projection=cartopy.crs.PlateCarree())\n",
    "ax.gridlines(draw_labels={\"bottom\": \"x\", \"left\": \"y\"})\n",
    "ax.coastlines()\n",
    "\n",
    "# ---- Adjust colorbar limits ----\n",
    "plot = rrs.plot(x=\"lon\", y=\"lat\", cmap=\"jet\", vmin=0, vmax=0.002)\n",
    "\n",
    "# ---- Crop the image to preferred location ----\n",
    "plot.axes.set_xlim(-82.85257,-81.68223)\n",
    "plot.axes.set_ylim(23.847017,28.215572)\n",
    "\n",
    "# ---- Customize colorbar label ----\n",
    "plot.colorbar.set_label(\"AVW (nm)\", labelpad=10, fontsize=16, fontweight=\"bold\")"
   ]
  },
  {
   "cell_type": "code",
   "execution_count": null,
   "id": "a438e65a-95c7-46b5-bd4c-da5fcd7ac88b",
   "metadata": {},
   "outputs": [],
   "source": [
    "%%time\n",
    "\n",
    "dataset[\"Rrs\"].sel({\"wavelength\": 709, \"lon\": slice(-82.85257,-81.68223), \"lat\": slice(28.215572, 23.847017)}).load()"
   ]
  },
  {
   "cell_type": "code",
   "execution_count": null,
   "id": "678a4098-bda4-40b6-a0e4-23f67ec47f23",
   "metadata": {},
   "outputs": [],
   "source": []
  },
  {
   "cell_type": "code",
   "execution_count": null,
   "id": "e4209e36-6c01-43a3-8983-0ec74a649d9a",
   "metadata": {},
   "outputs": [],
   "source": []
  },
  {
   "cell_type": "code",
   "execution_count": null,
   "id": "f4bbe39a-d209-4e57-9db7-f963d5a3f871",
   "metadata": {},
   "outputs": [],
   "source": [
    "b547 = Rrs.sel(wavelength=547, method='nearest')"
   ]
  },
  {
   "cell_type": "code",
   "execution_count": null,
   "id": "087de29e-75ff-41a2-b91d-d9beab8842d2",
   "metadata": {},
   "outputs": [],
   "source": []
  },
  {
   "cell_type": "markdown",
   "id": "240c7fa9-86b6-4ac2-8471-2ee10790d39f",
   "metadata": {},
   "source": [
    "Let's make a map of the AVW product to get a sense of what kind of water masses we're dealing with here, and explore what looks interesting. "
   ]
  },
  {
   "cell_type": "markdown",
   "id": "b047c765-4cb3-42f1-8566-b052f3465f68",
   "metadata": {},
   "source": [
    "Pretty, right? This is a cool bloom that happens in the middle of a gyre, just north of Hawaii. Alright, let's go ahead and dive in and see what is going on beneath the AVW \"hood\"."
   ]
  },
  {
   "cell_type": "markdown",
   "id": "deb26403-ed7a-428f-846b-89d32e571dbd",
   "metadata": {},
   "source": [
    "Take a look at the map, and think of a starting and ending point. We're going to **build a transect** and extract the underlying data. I pre-filled some values, but feel free to put in your own start/end coordinates below, using the map grid as a reference. Keep in mind, we're in the Western Hemisphere here, so the longitudes are negative (-) values, e.g., 93°W = -93.0. Latitude is looking at the bright side of life and staying positive (for this scene anyway). "
   ]
  },
  {
   "cell_type": "code",
   "execution_count": null,
   "id": "cdf2d348-2418-4723-9b2b-62c19e933821",
   "metadata": {},
   "outputs": [],
   "source": [
    "# ---- User Input: Define Transect ----\n",
    "lat1 = 29.0\n",
    "lon1 = -83.5\n",
    "lat2 = 24.5\n",
    "lon2 = -81.5"
   ]
  },
  {
   "cell_type": "markdown",
   "id": "c71def47-9150-49bc-b5b1-e41d883b4b87",
   "metadata": {},
   "source": [
    "Let's go ahead and put that transect on the AVW map, 1) because we can, and 2) so we can verify that the transect is where we want it."
   ]
  },
  {
   "cell_type": "code",
   "execution_count": null,
   "id": "2ab4cfc7-0885-4198-9b35-7eb3deaa05b4",
   "metadata": {},
   "outputs": [],
   "source": [
    "# ---- Generate Transect Points ----\n",
    "npts = 100\n",
    "lats = np.linspace(lat1, lat2, npts)\n",
    "lons = np.linspace(lon1, lon2, npts)\n",
    "\n",
    "# ---- Plot AVW Map and Transect ----\n",
    "fig = plt.figure(figsize=(14, 6))\n",
    "ax = plt.axes(projection=ccrs.PlateCarree())\n",
    "ax.set_extent([-84.0, -80.0, 20.0, 30.0], crs=ccrs.PlateCarree())\n",
    "ax.coastlines()\n",
    "ax.gridlines(draw_labels=True)\n",
    "ax.plot(lons, lats, color=\"black\", linewidth=2, transform=ccrs.PlateCarree(), label=\"Transect\")\n",
    "ax.legend(loc=\"lower left\")\n",
    "\n",
    "# Plot AVW image\n",
    "img = avw[0].plot(\n",
    "    x=\"lon\", y=\"lat\",\n",
    "    cmap=\"jet\", vmin=450, vmax=490,\n",
    "    ax=ax, add_colorbar=False\n",
    ")"
   ]
  },
  {
   "cell_type": "markdown",
   "id": "f85a2776-6195-4dd6-8ab4-03402d61f202",
   "metadata": {},
   "source": [
    "Next, for every data point that was extracted along the transect, we're going to pull together 172 layers of Rrs information and see what each of those spectra look like. But wait, there's more! To help add some context to those spectra, we're going to make sure that we color code each spectra so that it corresponds to the colormap on our AVW image. In other words, a red-colored spectrum will represent data that you pulled from a red part of the map. \n",
    "\n",
    "This will generate two plots. The first plot will show the Rrs spectrum \"as is\" in units of inverse steradians (sr^-1). It is useful to examine this, because it tells you something about the *brightness* of the water. Sometimes, two spectral shapes may look very similar, but the relative magnitude of values can help you determine if you're looking at a more highly scattering water mass (higher relative magnitude) versus a highly absorbing water mass (lower relative magnitude). In the second plot, we divided the Rrs by the integrated area under the spectrum. This puts everything \"equal\" in terms of brightness, allowing you to focus more on absolute spectral shape differences. Both are informative in their own way.\n",
    "\n",
    "Feel free to go back and build a new transect, explore, and get a feel for what different water masses look like."
   ]
  },
  {
   "cell_type": "code",
   "execution_count": null,
   "id": "a19e8095-956a-4b4f-8cbb-c6774d1141d3",
   "metadata": {},
   "outputs": [],
   "source": [
    "import pandas as pd"
   ]
  },
  {
   "cell_type": "code",
   "execution_count": null,
   "id": "8711f770-0bd8-4dab-bacf-efd9a61718b8",
   "metadata": {},
   "outputs": [],
   "source": [
    "rrs_pace_df = pd.DataFrame(columns=['Wavelength'])"
   ]
  },
  {
   "cell_type": "code",
   "execution_count": null,
   "id": "633f28a3-e6be-468f-8705-be042097be68",
   "metadata": {},
   "outputs": [],
   "source": [
    "lon2d, lat2d = np.meshgrid(longitude, latitude)\n",
    "lon2d"
   ]
  },
  {
   "cell_type": "code",
   "execution_count": null,
   "id": "ad82a112-1494-4800-be05-413af48363cd",
   "metadata": {},
   "outputs": [],
   "source": [
    "# ---- Color setup ----\n",
    "cmap = plt.get_cmap(\"jet\")\n",
    "norm = colors.Normalize(vmin=450, vmax=490)\n",
    "\n",
    "# Prepare figure\n",
    "fig, (ax_raw, ax_norm) = plt.subplots(1, 2, figsize=(14, 5), gridspec_kw={\"wspace\": 0.25})\n",
    "\n",
    "# ---- For setting y-limits of normalized plot ----\n",
    "ymin, ymax = np.inf, -np.inf\n",
    "\n",
    "lon2d, lat2d = np.meshgrid(longitude, latitude)\n",
    "\n",
    "# ---- Plot spectra ----\n",
    "for lat, lon in zip(lats, lons):\n",
    "    # Get nearest index from 2D coordinate arrays\n",
    "    dist = np.sqrt((lat2d - lat)**2 + (lon2d - lon)**2)\n",
    "    i, j = np.unravel_index(np.argmin(dist), dist.shape)\n",
    "\n",
    "    # Proceed with extraction\n",
    "    spectrum = Rrs.isel(lat=i, lon=j).values\n",
    "    avw_val  = avw.isel(lat=i, lon=j).values\n",
    "\n",
    "    # Normalize spectrum\n",
    "    area = trapezoid(spectrum, wavelengths)\n",
    "    spec_norm = spectrum / area if area > 0 else spectrum\n",
    "\n",
    "    # Update y-limits for normalized spectra\n",
    "    ymin = min(ymin, np.nanmin(spec_norm))\n",
    "    ymax = max(ymax, np.nanmax(spec_norm))\n",
    "\n",
    "    # Plot\n",
    "    color = cmap(norm(avw_val))\n",
    "    ax_raw.plot(wavelengths, spectrum, color=color, linewidth=0.8)\n",
    "    ax_norm.plot(wavelengths, spec_norm, color=color, linewidth=0.8)\n",
    "\n",
    "# ---- Shared colorbar ----\n",
    "sm = plt.cm.ScalarMappable(cmap=cmap, norm=norm)\n",
    "sm.set_array([])\n",
    "cbar = fig.colorbar(sm, ax=(ax_raw, ax_norm), location='right', pad=0.02)\n",
    "cbar.set_label(\"AVW (nm)\", fontsize=12)\n",
    "\n",
    "# ---- Titles and labels ----\n",
    "ax_raw.set_title(\"Raw Rrs Spectra Along Transect\")\n",
    "ax_norm.set_title(\"Area-Normalized Rrs Spectra\")\n",
    "ax_raw.set_xlabel(\"Wavelength (nm)\")\n",
    "ax_raw.set_ylabel(\"Rrs (1/sr)\")\n",
    "ax_norm.set_xlabel(\"Wavelength (nm)\")\n",
    "ax_norm.set_ylabel(\"Normalized Rrs\")\n",
    "ax_norm.set_ylim(ymin - 0.05 * (ymax - ymin), ymax + 0.05 * (ymax - ymin))\n",
    "\n",
    "plt.show()"
   ]
  },
  {
   "cell_type": "markdown",
   "id": "56e5bfde-a9fe-4367-90d2-e7f7901b6822",
   "metadata": {},
   "source": [
    "As you can likely see from your plots above, the optical properties of the open ocean can be variable under some conditions. So much so, in fact, that if we're looking to extract values from the satellite image for more quantitative analyses (e.g., matching up to a ship or animal observation), you're going to want a little context of the relative variability surrounding that pixel to account for spatial uncertainty. "
   ]
  },
  {
   "cell_type": "markdown",
   "id": "42d983c2-12aa-4ac5-864a-5675c40bfa98",
   "metadata": {},
   "source": [
    "As our last exercise in this tutorial, we're going to define a single location in the image, and then extract a 5x5 box of pixels around that central location. With this information, we will plot the mean + standard deviation of the spectra in that 5x5 box. This is a common way scientists extract data for satellite calibration, validation, and algorithm development. Let's start by picking a point in the image."
   ]
  },
  {
   "cell_type": "code",
   "execution_count": null,
   "id": "a75167b2-68e1-4beb-9fef-58b5f682e762",
   "metadata": {},
   "outputs": [],
   "source": [
    "# ---- Extract mean Rrs spectrum over a 5x5 pixel box around a target point ----\n",
    "print(\"Enter coordinates to extract Rrs over a 5x5 pixel box:\")\n",
    "target_lat = 27.0\n",
    "target_lon = -158.0"
   ]
  },
  {
   "cell_type": "markdown",
   "id": "5b2ce55a-5c79-45ff-b9ca-e4d5511e90c2",
   "metadata": {},
   "source": [
    "Using that, we'll find the closest central point by subtracting your lat/lon input from all lat/lon values in the array. Take the absolute value of that, and the lowest number will yield your closest pixel matchup. We'll make a mini box that goes +2 pixels out in every direction, which translates to a 5x5 pixel cube that we can run our statistics on.  "
   ]
  },
  {
   "cell_type": "code",
   "execution_count": null,
   "id": "a79125eb-4cf4-40ee-9fff-6374e6fd942b",
   "metadata": {},
   "outputs": [],
   "source": [
    "# Find nearest pixel\n",
    "#lat_vals = rrs.latitude.values\n",
    "#lon_vals = rrs.longitude.values\n",
    "dist = np.abs(lat2d - target_lat) + np.abs(lon2d - target_lon)\n",
    "i, j = np.unravel_index(dist.argmin(), lat2d.shape)\n",
    "\n",
    "# Define 5x5 box bounds\n",
    "half_box = 2  # for a 5x5 box\n",
    "i_min = max(i - half_box, 0)\n",
    "i_max = min(i + half_box + 1, lat2d.shape[0])\n",
    "j_min = max(j - half_box, 0)\n",
    "j_max = min(j + half_box + 1, lat2d.shape[1])\n",
    "\n",
    "# Extract and compute statistics\n",
    "rrs_box = Rrs.isel(lat=slice(i_min, i_max), lon=slice(j_min, j_max))\n",
    "rrs_mean = rrs_box.mean(dim=(\"lat\", \"lon\"))\n",
    "rrs_std = rrs_box.std(dim=(\"lat\", \"lon\"))\n",
    "#wavelengths = rrs[\"wavelength_3d\"]\n",
    "\n",
    "# Plot mean spectrum with standard deviation\n",
    "plt.figure(figsize=(10, 5))\n",
    "plt.errorbar(wavelengths, rrs_mean, yerr=rrs_std, fmt='-o', capsize=3)\n",
    "plt.xlabel(\"Wavelength (nm)\")\n",
    "plt.ylabel(\"Remote Sensing Reflectance (Rrs)\")\n",
    "plt.title(f\"Mean Rrs Spectrum ± 1σ at ({target_lat}, {target_lon})\")\n",
    "plt.grid(True)\n",
    "plt.tight_layout()\n",
    "plt.show()"
   ]
  },
  {
   "cell_type": "markdown",
   "id": "b66f6b5f-43a3-4d97-8edb-da6b5c4a02fe",
   "metadata": {},
   "source": [
    "Well folks, there you have it. Hyperspectral data, demystified. Well, maybe not entirely, but the tools here can be adapted to really help you explore the data and get a little more hands on with the raw reflectance information. Users often shy away from this information in favor of more geophysical variables that can be modeled and explained in the context of an ecosystem, like chlorophyll-a. This is completely understandable, but do keep in mind that every step you get away from the refelctance introduces additional uncertainties. Some folks have found that using raw reflectance values can outperform the use of more derived products, as in the case of [modeling Atlantic Sturgeon habitat](https://doi.org/10.1093/icesjms/fsx187). "
   ]
  }
 ],
 "metadata": {
  "kernelspec": {
   "display_name": "Python 3 (ipykernel)",
   "language": "python",
   "name": "python3"
  },
  "language_info": {
   "codemirror_mode": {
    "name": "ipython",
    "version": 3
   },
   "file_extension": ".py",
   "mimetype": "text/x-python",
   "name": "python",
   "nbconvert_exporter": "python",
   "pygments_lexer": "ipython3",
   "version": "3.11.11"
  },
  "panel-cell-order": [
   "b9465289-a4d0-4a07-8bd0-5eb6132fc465"
  ]
 },
 "nbformat": 4,
 "nbformat_minor": 5
}
