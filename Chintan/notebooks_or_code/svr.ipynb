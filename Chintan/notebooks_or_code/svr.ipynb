{
 "cells": [
  {
   "cell_type": "markdown",
   "id": "2bf01f36-29b9-40c7-b013-447ba22a603d",
   "metadata": {
    "jp-MarkdownHeadingCollapsed": true
   },
   "source": [
    "## Load Packages"
   ]
  },
  {
   "cell_type": "code",
   "execution_count": null,
   "id": "7adaeb62-9b3b-44b3-9064-85a4ece25f1c",
   "metadata": {},
   "outputs": [],
   "source": [
    "%load_ext autoreload"
   ]
  },
  {
   "cell_type": "code",
   "execution_count": null,
   "id": "3e60add7-5259-4130-b91f-1ffd0997ae6e",
   "metadata": {},
   "outputs": [],
   "source": [
    "%autoreload 2"
   ]
  },
  {
   "cell_type": "code",
   "execution_count": null,
   "id": "1d037cd9-a98c-45e0-8586-93af85624bcd",
   "metadata": {},
   "outputs": [],
   "source": [
    "import sklearn\n",
    "import pandas as pd\n",
    "import numpy as np\n",
    "import seaborn as sns\n",
    "from matplotlib import pyplot as plt\n",
    "import pickle\n",
    "from scipy.integrate import trapezoid"
   ]
  },
  {
   "cell_type": "code",
   "execution_count": null,
   "id": "c446f71c-5471-4bfc-84b9-d008183fe3d2",
   "metadata": {},
   "outputs": [],
   "source": [
    "import sys\n",
    "sys.path.append('./')\n",
    "import utils"
   ]
  },
  {
   "cell_type": "markdown",
   "id": "617bc405-5e60-426e-a653-e84c731cf933",
   "metadata": {
    "jp-MarkdownHeadingCollapsed": true
   },
   "source": [
    "## Read Data"
   ]
  },
  {
   "cell_type": "code",
   "execution_count": null,
   "id": "da207bfb-70c7-4bc9-a47b-604e28669eff",
   "metadata": {},
   "outputs": [],
   "source": [
    "kb = pd.read_csv('./Kbrevis_Rrs_1nm_400-720_PACE-OCI.csv', index_col=0)\n",
    "kb = kb.T\n",
    "kb = kb.drop([400,402], axis=1)\n",
    "kb.index"
   ]
  },
  {
   "cell_type": "code",
   "execution_count": null,
   "id": "295dfe2b-5e0c-49aa-bc41-7e94c5b771d2",
   "metadata": {},
   "outputs": [],
   "source": [
    "wavelengths = list(kb.columns)\n",
    "kb_area_norm = pd.DataFrame(columns=kb.index)\n",
    "for station in kb.index:\n",
    "    spectrum = kb.T[station]\n",
    "    area = trapezoid(spectrum, wavelengths)\n",
    "    kb_area_norm[station] = spectrum/area"
   ]
  },
  {
   "cell_type": "code",
   "execution_count": null,
   "id": "7af1cffe-12fa-4cda-b732-eb51f2ac0e7e",
   "metadata": {},
   "outputs": [],
   "source": [
    "kb_area_norm.plot(legend=False)"
   ]
  },
  {
   "cell_type": "code",
   "execution_count": null,
   "id": "c21e7e25-3a7b-45ea-b37c-54ed64b3f472",
   "metadata": {},
   "outputs": [],
   "source": [
    "kb.T.plot(legend=False)"
   ]
  },
  {
   "cell_type": "code",
   "execution_count": null,
   "id": "5c11afa3-cb20-4602-b1fc-bd15cf92d67b",
   "metadata": {},
   "outputs": [],
   "source": [
    "target_df = pd.read_csv('./kb_cellcounts.csv', index_col=0)\n",
    "target_df"
   ]
  },
  {
   "cell_type": "code",
   "execution_count": null,
   "id": "338718cd-4d01-4240-a32e-d79096960829",
   "metadata": {},
   "outputs": [],
   "source": [
    "# run when using area normalized spectrum\n",
    "# kb_area_norm = kb_area_norm.T\n",
    "# kb = kb_area_norm"
   ]
  },
  {
   "cell_type": "markdown",
   "id": "bf0c5827-cd96-4af6-9d31-3f3b5eee6fce",
   "metadata": {
    "jp-MarkdownHeadingCollapsed": true
   },
   "source": [
    "## Add and Select Features"
   ]
  },
  {
   "cell_type": "code",
   "execution_count": null,
   "id": "5b3fc8e0-edb9-4664-b40a-f04e7b6a1e68",
   "metadata": {},
   "outputs": [],
   "source": [
    "# adding features\n",
    "kb['kbbi'] = (kb[678] - kb[667])/(kb[678] + kb[667])\n",
    "kb['rbd'] = (kb[678] - kb[667])\n",
    "kb['ss_490'] = (kb[487]-kb[444] - (kb[532] - kb[444])*(487-444)/(532-444))\n",
    "kb['bbp_555'] = 2.058*kb[555]-0.00182\n",
    "kb['ndci'] = (kb[709] - kb[665])/(kb[709] + kb[665])\n",
    "kb['kb_cellcount'] = target_df['CellsperL']"
   ]
  },
  {
   "cell_type": "code",
   "execution_count": null,
   "id": "5815f4dd-f274-4935-aacf-8c018249d749",
   "metadata": {},
   "outputs": [],
   "source": [
    "kb"
   ]
  },
  {
   "cell_type": "code",
   "execution_count": null,
   "id": "af756b14-dece-4317-87b4-df352d3bf2ae",
   "metadata": {},
   "outputs": [],
   "source": [
    "corr = kb.corr()\n",
    "# fig, ax = plt.subplots()\n",
    "# sns.heatmap(corr, vmax=1, vmin=-1, annot=True, cmap='PiYG', mask=np.triu(corr)).set(title=\"Pearson Correlation Features with KB\")\n",
    "corr"
   ]
  },
  {
   "cell_type": "code",
   "execution_count": null,
   "id": "7ba8f14d-46a8-45b7-bf94-dab1c94a7620",
   "metadata": {},
   "outputs": [],
   "source": [
    "irelevant_features = corr[abs(corr)<0.5]['kb_cellcount'].dropna().index"
   ]
  },
  {
   "cell_type": "code",
   "execution_count": null,
   "id": "7cac16af-1b88-4e77-a5e9-67cb98b15937",
   "metadata": {},
   "outputs": [],
   "source": [
    "kb_refined = kb.drop(irelevant_features, axis=1)"
   ]
  },
  {
   "cell_type": "code",
   "execution_count": null,
   "id": "a59cf944-1e46-4497-acc3-87b31463ab8f",
   "metadata": {},
   "outputs": [],
   "source": [
    "corr_ = kb_refined.corr()\n",
    "# fig, ax = plt.subplots()\n",
    "print(len(kb_refined.columns)-1)\n",
    "# sns.heatmap(corr, vmax=1, vmin=-1, annot=True, cmap='PiYG', mask=np.triu(corr)).set(title=\"Pearson Correlation Features with KB\")"
   ]
  },
  {
   "cell_type": "code",
   "execution_count": null,
   "id": "459f0f5d-cb8d-475c-abf6-9e51b29f52c3",
   "metadata": {},
   "outputs": [],
   "source": [
    "print(list(kb_refined.columns))"
   ]
  },
  {
   "cell_type": "markdown",
   "id": "54c62fd2-5765-4296-947e-82c94d6ce145",
   "metadata": {
    "jp-MarkdownHeadingCollapsed": true
   },
   "source": [
    "## Prepare Feature and Target Vectors"
   ]
  },
  {
   "cell_type": "code",
   "execution_count": null,
   "id": "47281fd7-81e2-459d-8120-c6590111ff5c",
   "metadata": {},
   "outputs": [],
   "source": [
    "X = kb_refined.drop(['kb_cellcount'], axis=1).to_numpy()\n",
    "y = target_df['CellsperL'].to_numpy()"
   ]
  },
  {
   "cell_type": "code",
   "execution_count": null,
   "id": "d7fe1186-2a5b-4d10-9eb8-2f3630bfcbc6",
   "metadata": {},
   "outputs": [],
   "source": [
    "X.shape, y.shape"
   ]
  },
  {
   "cell_type": "code",
   "execution_count": null,
   "id": "76892e96-6b38-4eba-be3d-2ffb8e9a2de5",
   "metadata": {},
   "outputs": [],
   "source": [
    "y = np.log(y+1)\n",
    "y.shape"
   ]
  },
  {
   "cell_type": "markdown",
   "id": "27e14d10-9736-4eaa-a758-fa23c2ed8a43",
   "metadata": {
    "jp-MarkdownHeadingCollapsed": true
   },
   "source": [
    "## Stratified Train-Test Split"
   ]
  },
  {
   "cell_type": "code",
   "execution_count": null,
   "id": "b0c9769f-aad3-4855-b9d4-453000e5ede3",
   "metadata": {},
   "outputs": [],
   "source": [
    "# binning for stratified sampling\n",
    "bins = np.quantile(y, [0, 0.25, 0.5, 0.75, 1.0])  # quartile-based bins\n",
    "y_binned = np.digitize(y, bins, right=True)"
   ]
  },
  {
   "cell_type": "code",
   "execution_count": null,
   "id": "2053b2da-88f5-4b57-832b-8ed67d3d469c",
   "metadata": {},
   "outputs": [],
   "source": [
    "X_train, X_test, y_train, y_test = sklearn.model_selection.train_test_split(X, y, test_size=0.2, stratify=y_binned, random_state=777)\n",
    "X_train.shape, X_test.shape, y_train.shape, y_test.shape"
   ]
  },
  {
   "cell_type": "markdown",
   "id": "27f82e73-86f6-4d8b-b2b1-859260355165",
   "metadata": {
    "jp-MarkdownHeadingCollapsed": true
   },
   "source": [
    "## Initialize and Fit Model"
   ]
  },
  {
   "cell_type": "code",
   "execution_count": null,
   "id": "f8c3f5b7-64f4-4f94-8655-888e934b925f",
   "metadata": {},
   "outputs": [],
   "source": [
    "model = sklearn.svm.SVR(kernel='rbf', C=10, gamma='scale', epsilon=0.1)"
   ]
  },
  {
   "cell_type": "code",
   "execution_count": null,
   "id": "20ef89bf-5c63-42b7-a9b7-27be9641c315",
   "metadata": {},
   "outputs": [],
   "source": [
    "model.fit(X_train, y_train)"
   ]
  },
  {
   "cell_type": "markdown",
   "id": "2abc5042-0601-47c4-83c8-5bc617d0ed27",
   "metadata": {
    "jp-MarkdownHeadingCollapsed": true
   },
   "source": [
    "## Get Predictions"
   ]
  },
  {
   "cell_type": "code",
   "execution_count": null,
   "id": "e7acc90b-94e7-4f55-8fc3-53e38c7c6859",
   "metadata": {},
   "outputs": [],
   "source": [
    "y_pred = model.predict(X_test)"
   ]
  },
  {
   "cell_type": "code",
   "execution_count": null,
   "id": "4813f480-6ba6-417a-acb6-4f9d1435ce23",
   "metadata": {},
   "outputs": [],
   "source": [
    "y_test, y_pred"
   ]
  },
  {
   "cell_type": "code",
   "execution_count": null,
   "id": "14d67c79-b80e-41a1-9b7f-44069a29a427",
   "metadata": {},
   "outputs": [],
   "source": [
    "y_pred_linear = np.expm1(y_pred)\n",
    "y_test_linear = np.expm1(y_test)"
   ]
  },
  {
   "cell_type": "code",
   "execution_count": null,
   "id": "921aa1a3-1113-4144-8d72-b9f57e359039",
   "metadata": {},
   "outputs": [],
   "source": [
    "y_pred_linear, y_test_linear"
   ]
  },
  {
   "cell_type": "markdown",
   "id": "3e0b376e-6297-48d2-a599-61551b2edb02",
   "metadata": {
    "jp-MarkdownHeadingCollapsed": true
   },
   "source": [
    "## Save Model to disk"
   ]
  },
  {
   "cell_type": "code",
   "execution_count": null,
   "id": "e48592e6-05a1-4ff6-9910-da1f38399067",
   "metadata": {},
   "outputs": [],
   "source": [
    "with open('svr_model.pkl', 'wb') as f:\n",
    "    pickle.dump(model, f)"
   ]
  },
  {
   "cell_type": "markdown",
   "id": "d72e3bff-1e50-4e76-b514-9ebb5bd445d0",
   "metadata": {
    "jp-MarkdownHeadingCollapsed": true
   },
   "source": [
    "## Model Validation and Assessment"
   ]
  },
  {
   "cell_type": "code",
   "execution_count": null,
   "id": "604af658-4826-4e7b-aa71-df8ec71f81e6",
   "metadata": {},
   "outputs": [],
   "source": [
    "plt.rcdefaults()\n",
    "sns.set_theme(rc={\"figure.dpi\": 300})\n",
    "sns.set_context(\"poster\")\n",
    "sns.set_style(style=\"ticks\")\n",
    "\n",
    "def set_font_size(fontsize):\n",
    "    plt.rc('font', size=fontsize)\n",
    "    plt.rc('axes', titlesize=fontsize)\n",
    "    plt.rc('axes', labelsize=fontsize)\n",
    "    plt.rc('xtick', labelsize=fontsize)\n",
    "    plt.rc('ytick', labelsize=fontsize)\n",
    "    plt.rc('legend', fontsize=fontsize)"
   ]
  },
  {
   "cell_type": "code",
   "execution_count": null,
   "id": "f9a2bd0d-dbd0-46e1-918e-474d4a656dab",
   "metadata": {},
   "outputs": [],
   "source": [
    "plt.rcParams.update({\n",
    "    'lines.linewidth': 1.5,\n",
    "    'axes.linewidth': 1.0,\n",
    "    'xtick.major.width': 1.0,\n",
    "    'ytick.major.width': 1.0,\n",
    "    'xtick.minor.width': 0.8,\n",
    "    'ytick.minor.width': 0.8,\n",
    "    'xtick.direction': 'out',\n",
    "    'ytick.direction': 'out',\n",
    "})"
   ]
  },
  {
   "cell_type": "code",
   "execution_count": null,
   "id": "d0bdddc4-0e05-4783-9d57-e06bd83b49cd",
   "metadata": {},
   "outputs": [],
   "source": [
    "set_font_size(12)\n",
    "utils.get_validation_plot(x=y_test_linear+5, y=y_pred_linear+5, color_val=\"black\", metrics=['r2', 'mae', 'nrmse', 'bias', 'mdsa'], log_norm=True, trendline=False, \n",
    "                          xlabel_val=\"Observed $K. brev$ Cells/L\", ylabel_val=\"Modeled $K. brev$ Cells/L\", marker_border=\"white\", marker_size=55)"
   ]
  },
  {
   "cell_type": "code",
   "execution_count": null,
   "id": "31de6809-b991-459d-a43c-eb938e3eea59",
   "metadata": {},
   "outputs": [],
   "source": [
    "set_font_size(12)\n",
    "utils.get_validation_plot(x=y_test_linear+5, y=y_pred_linear+5, color_val=\"black\", metrics=['r2', 'mae', 'nrmse', 'bias', 'mdsa'], log_norm=True, trendline=False, \n",
    "                          xlabel_val=\"Observed $K. brev$ Cells/L\", ylabel_val=\"Modeled $K. brev$ Cells/L\", marker_border=\"white\", marker_size=55)"
   ]
  },
  {
   "cell_type": "markdown",
   "id": "f327822d-b39b-4199-a878-47d770a746f5",
   "metadata": {
    "jp-MarkdownHeadingCollapsed": true
   },
   "source": [
    "## Plot Feature Importances"
   ]
  },
  {
   "cell_type": "code",
   "execution_count": null,
   "id": "e54bc674-0dca-4348-89a8-7718b27d8f5e",
   "metadata": {},
   "outputs": [],
   "source": [
    "features = kb_refined.columns[:-1]\n",
    "features = [str(feature) for feature in features]"
   ]
  },
  {
   "cell_type": "code",
   "execution_count": null,
   "id": "8ef5792c-aefc-4cd6-858f-28655fa8799b",
   "metadata": {},
   "outputs": [],
   "source": [
    "set_font_size(16)\n",
    "from sklearn.inspection import permutation_importance\n",
    "\n",
    "# Compute permutation importance on test set\n",
    "result = permutation_importance(model, X_test, y_test, n_repeats=30, random_state=42, scoring='neg_root_mean_squared_error')\n",
    "\n",
    "import matplotlib.pyplot as plt\n",
    "import numpy as np\n",
    "\n",
    "# Plot\n",
    "sorted_idx = result.importances_mean.argsort()[::-1]\n",
    "top_n = 15  # Top N features to display\n",
    "top_features = np.array(features)[sorted_idx][:top_n]\n",
    "\n",
    "plt.figure(figsize=(10, 6))\n",
    "plt.barh(top_features[::-1], result.importances_mean[sorted_idx][:top_n][::-1])\n",
    "plt.xlabel(\"Mean decrease in RMSE\")\n",
    "plt.title(\"Permutation Feature Importance (SVR) - Rrs\")\n",
    "plt.tight_layout()\n",
    "plt.show()"
   ]
  },
  {
   "cell_type": "code",
   "execution_count": null,
   "id": "a2416604-ed2f-4324-add3-21ad0cdf9e5f",
   "metadata": {},
   "outputs": [],
   "source": [
    "features = kb_refined.columns[:-1]\n",
    "features = [str(feature) for feature in features]"
   ]
  },
  {
   "cell_type": "code",
   "execution_count": null,
   "id": "3a0ba17e-08ca-46f3-ad7d-3ba6963289ac",
   "metadata": {},
   "outputs": [],
   "source": [
    "set_font_size(16)\n",
    "from sklearn.inspection import permutation_importance\n",
    "\n",
    "# Compute permutation importance on test set\n",
    "result = permutation_importance(model, X_test, y_test, n_repeats=30, random_state=42, scoring='neg_root_mean_squared_error')\n",
    "\n",
    "import matplotlib.pyplot as plt\n",
    "import numpy as np\n",
    "\n",
    "# Plot\n",
    "sorted_idx = result.importances_mean.argsort()[::-1]\n",
    "top_n = 15  # Top N features to display\n",
    "top_features = np.array(features)[sorted_idx][:top_n]\n",
    "\n",
    "plt.figure(figsize=(10, 6))\n",
    "plt.barh(top_features[::-1], result.importances_mean[sorted_idx][:top_n][::-1])\n",
    "plt.xlabel(\"Mean decrease in RMSE\")\n",
    "plt.title(\"Permutation Feature Importance (SVR) - Area Normalized Spectra\")\n",
    "plt.tight_layout()\n",
    "plt.show()"
   ]
  },
  {
   "cell_type": "code",
   "execution_count": null,
   "id": "d9b1b556-05fd-48e5-b84f-8141b68b5774",
   "metadata": {},
   "outputs": [],
   "source": []
  }
 ],
 "metadata": {
  "kernelspec": {
   "display_name": "Python 3 (ipykernel)",
   "language": "python",
   "name": "python3"
  },
  "language_info": {
   "codemirror_mode": {
    "name": "ipython",
    "version": 3
   },
   "file_extension": ".py",
   "mimetype": "text/x-python",
   "name": "python",
   "nbconvert_exporter": "python",
   "pygments_lexer": "ipython3",
   "version": "3.11.11"
  }
 },
 "nbformat": 4,
 "nbformat_minor": 5
}
